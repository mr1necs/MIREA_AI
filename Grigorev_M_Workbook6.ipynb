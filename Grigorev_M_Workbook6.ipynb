{
 "cells": [
  {
   "cell_type": "markdown",
   "id": "d8f032ad",
   "metadata": {},
   "source": [
    "# Рабочая тетрадь №6 Григорьев Максим Эдуардович КРБО-01-21"
   ]
  },
  {
   "cell_type": "markdown",
   "id": "3fb395b4",
   "metadata": {},
   "source": [
    "# 1.1.1 Задание\n",
    "### ***Выполните по вариантам соответственно реализацию генетического алгоритма в соответствии с приложенными начальными данными.***"
   ]
  },
  {
   "cell_type": "code",
   "execution_count": 4,
   "id": "8b313659",
   "metadata": {},
   "outputs": [
    {
     "name": "stdout",
     "output_type": "stream",
     "text": [
      "max_1_step: 2.2941176470588234\n",
      "max_2_step: 4.294117647058823\n",
      "max_3_step: 6.294117647058823\n",
      "max_4_step: 8.0\n",
      "max Hrom: 2.0\n"
     ]
    }
   ],
   "source": [
    "def qHrom(x,y):\n",
    "    return (x-3*y+1)/(3*x**2+y**2+1)\n",
    "\n",
    "def sumqHrom(Hrom):\n",
    "    return sum(Hrom)\n",
    "\n",
    "def exchangeScheme(oldX, oldY, sortedId):\n",
    "    X = [0 for i in range(4)]\n",
    "    Y = [0 for i in range(4)]\n",
    "    \n",
    "    X[2] = oldX[sortedId[2]]\n",
    "    X[3] = oldX[sortedId[2]]\n",
    "    \n",
    "    X[0] = oldX[sortedId[0]]\n",
    "    \n",
    "    X[1] = oldX[sortedId[1]]\n",
    "    \n",
    "    Y[2] = oldY[sortedId[2]]\n",
    "    Y[3] = oldY[sortedId[2]]\n",
    "    \n",
    "    Y[0] = oldY[sortedId[0]]\n",
    "    \n",
    "    Y[1] = oldY[sortedId[1]]\n",
    "\n",
    "    return X, Y\n",
    "    \n",
    "def sorting(Hrom):\n",
    "    sortedId = sorted(range(len(Hrom)), key = lambda k: Hrom[k])\n",
    "    \n",
    "    return sortedId\n",
    "\n",
    "def evoStep(X,Y,Hrom):\n",
    "    _, minId = min((value, id) for (id,value) in enumerate(Hrom))\n",
    "    X = X[:]\n",
    "    Y = Y[:]\n",
    "    Hrom = Hrom[:]\n",
    "    \n",
    "    X.pop(minId)\n",
    "    Y.pop(minId)\n",
    "    Hrom.pop(minId)\n",
    "    \n",
    "    return X, Y, Hrom\n",
    "\n",
    "def evoSteps(X,Y, stepsNum = 4):\n",
    "    res=[]\n",
    "    \n",
    "    for i in range(4):\n",
    "        arrHrom = [qHrom(x,Y[i]) for i,x in enumerate(X)]\n",
    "        \n",
    "        X, Y, Hrom = evoStep(X,Y, arrHrom)\n",
    "        \n",
    "        X, Y = exchangeScheme(X, Y, sorting(Hrom))\n",
    "        \n",
    "        res.append([X,Y,sumqHrom(arrHrom), arrHrom])\n",
    "    return X, Y, res\n",
    "\n",
    "X = [-2,-1,0,2]\n",
    "Y = [-2,0,-1,1]\n",
    "\n",
    "res = evoSteps(X,Y)\n",
    "for i in range(len(res[2])):\n",
    "    print(f'max_{i+1}_step: {res[2][i][2]}')\n",
    "    \n",
    "qualarrHrom = []\n",
    "for i in range(len(res[2])):\n",
    "    qualarrHrom += res[2][i][3]\n",
    "\n",
    "print(f'max Hrom: {max(qualarrHrom)}')"
   ]
  },
  {
   "cell_type": "markdown",
   "id": "5c7a28be",
   "metadata": {},
   "source": [
    "# 1.2.1 Задание\n",
    "### ***Найти длину гамильтонова цикла S4 в полном графе K6 после четырех циклов решения задачи методом отжига по вариантам ниже.***"
   ]
  },
  {
   "cell_type": "code",
   "execution_count": 5,
   "id": "4b702254",
   "metadata": {},
   "outputs": [
    {
     "name": "stdout",
     "output_type": "stream",
     "text": [
      "Лучший выбранный маршрут: [1, 5, 3, 2, 4, 6, 1]\n",
      "Его длина: 165\n",
      "Длины всех рассмотренных маршрутов: [151, 138, 150, 166, 165]\n"
     ]
    },
    {
     "data": {
      "image/png": "[encoded data removed]",
      "text/plain": [
       "<Figure size 640x480 with 1 Axes>"
      ]
     },
     "metadata": {},
     "output_type": "display_data"
    }
   ],
   "source": [
    "import networkx as nx\n",
    "from math import e\n",
    "#Var4\n",
    "\n",
    "def probability(delta, T):\n",
    "    return 100 * e ** (-delta / T)\n",
    " \n",
    "def lowerTemp(T):\n",
    "    newT = 0.5 * T\n",
    "    return newT\n",
    " \n",
    "def edgeLength(i, j, distances):\n",
    "    return max([item[2] for item in distances if (i, j) == (item[:2]) or (j, i) == (item[:2])])\n",
    " \n",
    "def routeLength(V, distances):\n",
    "    edges = []\n",
    "    \n",
    "    for i in range(len(V)-1):\n",
    "        edges.append(edgeLength(V[i], V[i + 1], distances))\n",
    "        \n",
    "    return sum(edges)\n",
    " \n",
    "def routeOneReplacement(arrV, Z):\n",
    "    arrV[Z[0] - 1], arrV[Z[1] - 1] = arrV[Z[1] - 1], arrV[Z[0] - 1]\n",
    "    return arrV\n",
    " \n",
    "def routeReplacement(V, Z):\n",
    "    for z in Z:\n",
    "        V = routeOneReplacement(V, Z)\n",
    "    return V\n",
    " \n",
    "def chooseRoute(distances, V, Z, T, P):\n",
    "    Vlength = routeLength(V, distances)\n",
    "    lengthArr = [Vlength]\n",
    "    \n",
    "    for i, z in enumerate(Z):\n",
    "        newV = routeOneReplacement(V[:], z)\n",
    "        newS = routeLength(newV, distances)\n",
    "        lengthArr.append(newS)\n",
    "        deltaS = newS - Vlength\n",
    "        if deltaS <= 0 or probability(deltaS, T) > P[i]:\n",
    "            V = newV\n",
    "            Vlength = newS\n",
    "            \n",
    "        T = lowerTemp(T)\n",
    "    return V, lengthArr\n",
    " \n",
    "def drawRouteGraph(distances, bestRoute):\n",
    "    newDistances = []\n",
    "    \n",
    "    for i in range(len(bestRoute) - 1):\n",
    "        for distance in distances:\n",
    "            if (bestRoute[i], bestRoute[i + 1]) == distance[:2] or (bestRoute[i + 1], bestRoute[i]) == distance[:2]:\n",
    "                newDistances.append(distance)\n",
    "    \n",
    "    graph = nx.Graph()\n",
    "    \n",
    "    graph.add_weighted_edges_from(newDistances)\n",
    "    \n",
    "    nx.draw_kamada_kawai(graph, node_color = '#003FFA', node_size = 2000, with_labels = True)\n",
    "distances = [(1,2,18),\n",
    "            (1,3,41),\n",
    "            (1,4,36),\n",
    "            (1,5,29),\n",
    "            (1,6,19),\n",
    "            (2,3,27),\n",
    "            (2,4,31),\n",
    "            (2,5,37),\n",
    "            (2,6,15),\n",
    "            (3,4,29),\n",
    "            (3,5,42),\n",
    "            (3,6,23),\n",
    "            (4,5,24),\n",
    "            (4,6,17),\n",
    "            (5,6,24),]\n",
    "V = [1,3,4,5,6,2,1]\n",
    "Z = [(2,4),(3,4),(4,6),(5,6)]\n",
    "P = [63,49,45,53]\n",
    "T = 100\n",
    " \n",
    "bestRoute, lengthArr = chooseRoute(distances, V, Z, T, P)\n",
    " \n",
    "print('Лучший выбранный маршрут:', bestRoute)\n",
    "print('Его длина:', routeLength(bestRoute, distances))\n",
    "print('Длины всех рассмотренных маршрутов:', lengthArr)\n",
    "drawRouteGraph(distances, bestRoute)"
   ]
  },
  {
   "cell_type": "code",
   "execution_count": null,
   "id": "ec314f86",
   "metadata": {},
   "outputs": [],
   "source": []
  }
 ],
 "metadata": {
  "kernelspec": {
   "display_name": "Python 3 (ipykernel)",
   "language": "python",
   "name": "python3"
  },
  "language_info": {
   "codemirror_mode": {
    "name": "ipython",
    "version": 3
   },
   "file_extension": ".py",
   "mimetype": "text/x-python",
   "name": "python",
   "nbconvert_exporter": "python",
   "pygments_lexer": "ipython3",
   "version": "3.9.12"
  }
 },
 "nbformat": 4,
 "nbformat_minor": 5
}
