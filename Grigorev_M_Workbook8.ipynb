{
 "cells": [
  {
   "cell_type": "markdown",
   "id": "d8f032ad",
   "metadata": {},
   "source": [
    "# Рабочая тетрадь №8 Григорьев Максим Эдуардович КРБО-01-21"
   ]
  },
  {
   "cell_type": "markdown",
   "id": "3fb395b4",
   "metadata": {},
   "source": [
    "# 1.1.1 Задание\n",
    "### ***Требуется провести кластерный анализ данных методом k-средних.***"
   ]
  },
  {
   "cell_type": "code",
   "execution_count": null,
   "id": "8b313659",
   "metadata": {},
   "outputs": [],
   "source": []
  },
  {
   "cell_type": "markdown",
   "id": "8ac88862",
   "metadata": {},
   "source": [
    "### ***Выполните кластеризацию для набора данных ирисов Фишера. Выполните предсказания для модели. Поэкспериментируйте с количеством кластеров.***"
   ]
  },
  {
   "cell_type": "code",
   "execution_count": null,
   "id": "3f0610ed",
   "metadata": {},
   "outputs": [],
   "source": []
  },
  {
   "cell_type": "markdown",
   "id": "5c7a28be",
   "metadata": {},
   "source": [
    "# 1.1.2 Задание\n",
    "### ***Выполните иерархическую кластеризацию для набора данных об ирисах Фишера. При этом необходимо использовать любые два признака (всего их четыре).***"
   ]
  },
  {
   "cell_type": "code",
   "execution_count": null,
   "id": "4b702254",
   "metadata": {},
   "outputs": [],
   "source": []
  },
  {
   "cell_type": "code",
   "execution_count": null,
   "id": "ec314f86",
   "metadata": {},
   "outputs": [],
   "source": []
  }
 ],
 "metadata": {
  "kernelspec": {
   "display_name": "Python 3 (ipykernel)",
   "language": "python",
   "name": "python3"
  },
  "language_info": {
   "codemirror_mode": {
    "name": "ipython",
    "version": 3
   },
   "file_extension": ".py",
   "mimetype": "text/x-python",
   "name": "python",
   "nbconvert_exporter": "python",
   "pygments_lexer": "ipython3",
   "version": "3.9.12"
  }
 },
 "nbformat": 4,
 "nbformat_minor": 5
}
