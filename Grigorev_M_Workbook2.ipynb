{
 "cells": [
  {
   "cell_type": "markdown",
   "id": "3aa6dfbc",
   "metadata": {},
   "source": [
    "# Рабочая тетрадь №2 Григорьев Максим Эдуардович КРБО-01-21 "
   ]
  },
  {
   "cell_type": "markdown",
   "id": "f5bd37d8",
   "metadata": {},
   "source": [
    "# 1.3.1 Задание\n",
    "### ***Создать 8x8 матрицу и заполнить её в шахматном порядке нулями и единицами.***\n"
   ]
  },
  {
   "cell_type": "code",
   "execution_count": 1,
   "id": "07bf51b0",
   "metadata": {},
   "outputs": [
    {
     "name": "stdout",
     "output_type": "stream",
     "text": [
      "[[1 0 1 0 1 0 1 0]\n",
      " [0 1 0 1 0 1 0 1]\n",
      " [1 0 1 0 1 0 1 0]\n",
      " [0 1 0 1 0 1 0 1]\n",
      " [1 0 1 0 1 0 1 0]\n",
      " [0 1 0 1 0 1 0 1]\n",
      " [1 0 1 0 1 0 1 0]\n",
      " [0 1 0 1 0 1 0 1]]\n"
     ]
    }
   ],
   "source": [
    "import numpy as np\n",
    "A = np.tile(np.array([[1,0],[0,1]]), (4,4))\n",
    "print(A)"
   ]
  },
  {
   "cell_type": "markdown",
   "id": "3b1d73b4",
   "metadata": {},
   "source": [
    "# 1.3.2 Задание\n",
    "### ***Создать 5x5 матрицу со значениями в строках от 0 до 4. Для создания необходимо использовать функцию arrange.***"
   ]
  },
  {
   "cell_type": "code",
   "execution_count": 2,
   "id": "73e8b7f4",
   "metadata": {},
   "outputs": [
    {
     "name": "stdout",
     "output_type": "stream",
     "text": [
      "[[0. 1. 2. 3. 4.]\n",
      " [0. 1. 2. 3. 4.]\n",
      " [0. 1. 2. 3. 4.]\n",
      " [0. 1. 2. 3. 4.]\n",
      " [0. 1. 2. 3. 4.]]\n"
     ]
    }
   ],
   "source": [
    "import numpy as np\n",
    "x = np.zeros((5,5))\n",
    "x += np.arange(5)\n",
    "print(x)"
   ]
  },
  {
   "cell_type": "markdown",
   "id": "f15aaf62",
   "metadata": {},
   "source": [
    "# 1.3.3 Задание\n",
    "### ***Создать массив 3x3x3 со случайными значениями.***"
   ]
  },
  {
   "cell_type": "code",
   "execution_count": 3,
   "id": "549079dd",
   "metadata": {},
   "outputs": [
    {
     "name": "stdout",
     "output_type": "stream",
     "text": [
      "[[[0.04018602 0.31707324 0.80590019]\n",
      "  [0.94080275 0.62142517 0.00213033]\n",
      "  [0.16926959 0.60483131 0.10622338]]\n",
      "\n",
      " [[0.28167381 0.00516806 0.71196446]\n",
      "  [0.87767498 0.30326302 0.76827043]\n",
      "  [0.82834614 0.38603603 0.06817837]]\n",
      "\n",
      " [[0.55467279 0.27769611 0.1820021 ]\n",
      "  [0.8142746  0.42692493 0.44615194]\n",
      "  [0.74329737 0.53825201 0.35385737]]]\n"
     ]
    }
   ],
   "source": [
    "import numpy as np\n",
    "A = np.random.random((3,3,3))\n",
    "print(A)"
   ]
  },
  {
   "cell_type": "markdown",
   "id": "c2aec2ec",
   "metadata": {},
   "source": [
    "# 1.3.4 Задание\n",
    "### ***Создать матрицу с 0 внутри, и 1 на границах.***"
   ]
  },
  {
   "cell_type": "code",
   "execution_count": 4,
   "id": "540365c2",
   "metadata": {},
   "outputs": [
    {
     "name": "stdout",
     "output_type": "stream",
     "text": [
      "[[1. 1. 1. 1. 1.]\n",
      " [1. 0. 0. 0. 1.]\n",
      " [1. 0. 0. 0. 1.]\n",
      " [1. 0. 0. 0. 1.]\n",
      " [1. 1. 1. 1. 1.]]\n"
     ]
    }
   ],
   "source": [
    "import numpy as np\n",
    "A = np.ones((5,5))\n",
    "A[1:-1,1:-1] = 0\n",
    "print(A)"
   ]
  },
  {
   "cell_type": "markdown",
   "id": "a780c587",
   "metadata": {},
   "source": [
    "# 1.3.5 Задание\n",
    "### ***Создайте массив и отсортируйте его по убыванию.***"
   ]
  },
  {
   "cell_type": "code",
   "execution_count": 5,
   "id": "864292c5",
   "metadata": {},
   "outputs": [
    {
     "name": "stdout",
     "output_type": "stream",
     "text": [
      "[0.75916034 0.66312385 0.59475694 0.58581748 0.36220696 0.01795307]\n"
     ]
    }
   ],
   "source": [
    "import numpy as np\n",
    "A = np.random.random((6))\n",
    "print(-np.sort(-A))"
   ]
  },
  {
   "cell_type": "markdown",
   "id": "eb35ad35",
   "metadata": {},
   "source": [
    "# 1.3.6 Задание\n",
    "### ***Создайте матрицу, выведите ее форму, размер и размерность.***"
   ]
  },
  {
   "cell_type": "code",
   "execution_count": 6,
   "id": "33235e54",
   "metadata": {},
   "outputs": [
    {
     "name": "stdout",
     "output_type": "stream",
     "text": [
      "(5, 5) 25 2\n"
     ]
    }
   ],
   "source": [
    "import numpy as np\n",
    "A = np.matrix(np.arange(1, 26).reshape((5, 5)))\n",
    "print(A.shape, A.size, A.ndim)"
   ]
  },
  {
   "cell_type": "markdown",
   "id": "2e96a75e",
   "metadata": {},
   "source": [
    "# Задание 2.3.1 "
   ]
  },
  {
   "cell_type": "markdown",
   "id": "9b5673ff",
   "metadata": {},
   "source": [
    "### ***Найдитн евклидово расстояние между двумя Series (точками) a и b, не используя встроенную формулу.***"
   ]
  },
  {
   "cell_type": "code",
   "execution_count": 7,
   "id": "7f4676cf",
   "metadata": {},
   "outputs": [
    {
     "name": "stdout",
     "output_type": "stream",
     "text": [
      "0.6184576979168285\n"
     ]
    }
   ],
   "source": [
    "import pandas as pd \n",
    "import numpy as np\n",
    "\n",
    "a = pd.Series(np.random.random(3))\n",
    "b = pd.Series(np.random.random(3))\n",
    "print(((b[0] - a[0])**2 + (b[1] - a[1])**2 + (b[2] - a[2])**2)**0.5)"
   ]
  },
  {
   "cell_type": "markdown",
   "id": "ef640351",
   "metadata": {},
   "source": [
    "# 2.3.2 Задание\n",
    "### ***Найдите в Интернете ссылку на любой csv файл и сформируйте из него фрейм данных.***"
   ]
  },
  {
   "cell_type": "code",
   "execution_count": 8,
   "id": "b5cc1c2d",
   "metadata": {},
   "outputs": [
    {
     "data": {
      "text/html": [
       "<div>\n",
       "<style scoped>\n",
       "    .dataframe tbody tr th:only-of-type {\n",
       "        vertical-align: middle;\n",
       "    }\n",
       "\n",
       "    .dataframe tbody tr th {\n",
       "        vertical-align: top;\n",
       "    }\n",
       "\n",
       "    .dataframe thead th {\n",
       "        text-align: right;\n",
       "    }\n",
       "</style>\n",
       "<table border=\"1\" class=\"dataframe\">\n",
       "  <thead>\n",
       "    <tr style=\"text-align: right;\">\n",
       "      <th></th>\n",
       "      <th>Name</th>\n",
       "      <th>Country</th>\n",
       "      <th>Company</th>\n",
       "      <th>Date</th>\n",
       "      <th>Sales</th>\n",
       "    </tr>\n",
       "  </thead>\n",
       "  <tbody>\n",
       "    <tr>\n",
       "      <th>0</th>\n",
       "      <td>Brenden Cote</td>\n",
       "      <td>Central African Republic</td>\n",
       "      <td>Metus Corp.</td>\n",
       "      <td>Feb 17, 2018</td>\n",
       "      <td>67044</td>\n",
       "    </tr>\n",
       "    <tr>\n",
       "      <th>1</th>\n",
       "      <td>Justina Reed</td>\n",
       "      <td>Namibia</td>\n",
       "      <td>Lobortis Ltd</td>\n",
       "      <td>Apr 27, 2017</td>\n",
       "      <td>89517</td>\n",
       "    </tr>\n",
       "    <tr>\n",
       "      <th>2</th>\n",
       "      <td>Daquan Vinson</td>\n",
       "      <td>Svalbard and Jan Mayen Islands</td>\n",
       "      <td>A Mi Consulting</td>\n",
       "      <td>Aug 14, 2016</td>\n",
       "      <td>62705</td>\n",
       "    </tr>\n",
       "    <tr>\n",
       "      <th>3</th>\n",
       "      <td>Connor Shelton</td>\n",
       "      <td>Niue</td>\n",
       "      <td>Parturient Consulting</td>\n",
       "      <td>Feb 13, 2017</td>\n",
       "      <td>12675</td>\n",
       "    </tr>\n",
       "    <tr>\n",
       "      <th>4</th>\n",
       "      <td>Drew Carlson</td>\n",
       "      <td>Mayotte</td>\n",
       "      <td>Interdum Associates</td>\n",
       "      <td>Sep 26, 2017</td>\n",
       "      <td>86670</td>\n",
       "    </tr>\n",
       "  </tbody>\n",
       "</table>\n",
       "</div>"
      ],
      "text/plain": [
       "             Name                         Country                Company  \\\n",
       "0    Brenden Cote        Central African Republic            Metus Corp.   \n",
       "1    Justina Reed                         Namibia           Lobortis Ltd   \n",
       "2   Daquan Vinson  Svalbard and Jan Mayen Islands        A Mi Consulting   \n",
       "3  Connor Shelton                            Niue  Parturient Consulting   \n",
       "4    Drew Carlson                         Mayotte    Interdum Associates   \n",
       "\n",
       "           Date  Sales  \n",
       "0  Feb 17, 2018  67044  \n",
       "1  Apr 27, 2017  89517  \n",
       "2  Aug 14, 2016  62705  \n",
       "3  Feb 13, 2017  12675  \n",
       "4  Sep 26, 2017  86670  "
      ]
     },
     "execution_count": 8,
     "metadata": {},
     "output_type": "execute_result"
    }
   ],
   "source": [
    "import pandas as pd \n",
    "url = 'https://raw.githubusercontent.com/chrisalbon/sim_data/master/sales.csv'\n",
    "dataframe = pd.read_csv(url)\n",
    "dataframe.head(5)"
   ]
  },
  {
   "cell_type": "markdown",
   "id": "ca580e4a",
   "metadata": {},
   "source": [
    "# 2.3.3 Задание"
   ]
  },
  {
   "cell_type": "markdown",
   "id": "9de8d5b3",
   "metadata": {},
   "source": [
    "### ***Проделайте с получившемся из предыдущего задания фреймом данных те же действия, что и в примерах 2.2.5-2.2.7.***"
   ]
  },
  {
   "cell_type": "code",
   "execution_count": 9,
   "id": "e90a05ca",
   "metadata": {},
   "outputs": [
    {
     "data": {
      "text/html": [
       "<div>\n",
       "<style scoped>\n",
       "    .dataframe tbody tr th:only-of-type {\n",
       "        vertical-align: middle;\n",
       "    }\n",
       "\n",
       "    .dataframe tbody tr th {\n",
       "        vertical-align: top;\n",
       "    }\n",
       "\n",
       "    .dataframe thead th {\n",
       "        text-align: right;\n",
       "    }\n",
       "</style>\n",
       "<table border=\"1\" class=\"dataframe\">\n",
       "  <thead>\n",
       "    <tr style=\"text-align: right;\">\n",
       "      <th></th>\n",
       "      <th>Name</th>\n",
       "      <th>Country</th>\n",
       "      <th>Company</th>\n",
       "      <th>Date</th>\n",
       "      <th>Sales</th>\n",
       "    </tr>\n",
       "  </thead>\n",
       "  <tbody>\n",
       "    <tr>\n",
       "      <th>0</th>\n",
       "      <td>Brenden Cote</td>\n",
       "      <td>Central African Republic</td>\n",
       "      <td>Metus Corp.</td>\n",
       "      <td>Feb 17, 2018</td>\n",
       "      <td>67044</td>\n",
       "    </tr>\n",
       "    <tr>\n",
       "      <th>1</th>\n",
       "      <td>Justina Reed</td>\n",
       "      <td>Namibia</td>\n",
       "      <td>Lobortis Ltd</td>\n",
       "      <td>Apr 27, 2017</td>\n",
       "      <td>89517</td>\n",
       "    </tr>\n",
       "  </tbody>\n",
       "</table>\n",
       "</div>"
      ],
      "text/plain": [
       "           Name                   Country       Company          Date  Sales\n",
       "0  Brenden Cote  Central African Republic   Metus Corp.  Feb 17, 2018  67044\n",
       "1  Justina Reed                   Namibia  Lobortis Ltd  Apr 27, 2017  89517"
      ]
     },
     "execution_count": 9,
     "metadata": {},
     "output_type": "execute_result"
    }
   ],
   "source": [
    "dataframe.head(2)"
   ]
  },
  {
   "cell_type": "code",
   "execution_count": 10,
   "id": "4fde72b5",
   "metadata": {},
   "outputs": [
    {
     "data": {
      "text/html": [
       "<div>\n",
       "<style scoped>\n",
       "    .dataframe tbody tr th:only-of-type {\n",
       "        vertical-align: middle;\n",
       "    }\n",
       "\n",
       "    .dataframe tbody tr th {\n",
       "        vertical-align: top;\n",
       "    }\n",
       "\n",
       "    .dataframe thead th {\n",
       "        text-align: right;\n",
       "    }\n",
       "</style>\n",
       "<table border=\"1\" class=\"dataframe\">\n",
       "  <thead>\n",
       "    <tr style=\"text-align: right;\">\n",
       "      <th></th>\n",
       "      <th>Name</th>\n",
       "      <th>Country</th>\n",
       "      <th>Company</th>\n",
       "      <th>Date</th>\n",
       "      <th>Sales</th>\n",
       "    </tr>\n",
       "  </thead>\n",
       "  <tbody>\n",
       "    <tr>\n",
       "      <th>97</th>\n",
       "      <td>Libby Lindsey</td>\n",
       "      <td>Qatar</td>\n",
       "      <td>Convallis Corp.</td>\n",
       "      <td>Nov 5, 2016</td>\n",
       "      <td>10583</td>\n",
       "    </tr>\n",
       "    <tr>\n",
       "      <th>98</th>\n",
       "      <td>Cody Langley</td>\n",
       "      <td>Isle of Man</td>\n",
       "      <td>Est Mollis Company</td>\n",
       "      <td>Oct 9, 2017</td>\n",
       "      <td>98167</td>\n",
       "    </tr>\n",
       "    <tr>\n",
       "      <th>99</th>\n",
       "      <td>Colt Schultz</td>\n",
       "      <td>Guadeloupe</td>\n",
       "      <td>Dolor Nonummy Inc.</td>\n",
       "      <td>Nov 18, 2017</td>\n",
       "      <td>39988</td>\n",
       "    </tr>\n",
       "  </tbody>\n",
       "</table>\n",
       "</div>"
      ],
      "text/plain": [
       "             Name      Country             Company          Date  Sales\n",
       "97  Libby Lindsey        Qatar     Convallis Corp.   Nov 5, 2016  10583\n",
       "98   Cody Langley  Isle of Man  Est Mollis Company   Oct 9, 2017  98167\n",
       "99   Colt Schultz   Guadeloupe  Dolor Nonummy Inc.  Nov 18, 2017  39988"
      ]
     },
     "execution_count": 10,
     "metadata": {},
     "output_type": "execute_result"
    }
   ],
   "source": [
    "dataframe.tail(3)"
   ]
  },
  {
   "cell_type": "code",
   "execution_count": 11,
   "id": "94e68984",
   "metadata": {},
   "outputs": [
    {
     "name": "stdout",
     "output_type": "stream",
     "text": [
      "(100, 5)\n"
     ]
    }
   ],
   "source": [
    "print(dataframe.shape)"
   ]
  },
  {
   "cell_type": "code",
   "execution_count": 12,
   "id": "cf661507",
   "metadata": {},
   "outputs": [
    {
     "data": {
      "text/html": [
       "<div>\n",
       "<style scoped>\n",
       "    .dataframe tbody tr th:only-of-type {\n",
       "        vertical-align: middle;\n",
       "    }\n",
       "\n",
       "    .dataframe tbody tr th {\n",
       "        vertical-align: top;\n",
       "    }\n",
       "\n",
       "    .dataframe thead th {\n",
       "        text-align: right;\n",
       "    }\n",
       "</style>\n",
       "<table border=\"1\" class=\"dataframe\">\n",
       "  <thead>\n",
       "    <tr style=\"text-align: right;\">\n",
       "      <th></th>\n",
       "      <th>Name</th>\n",
       "      <th>Country</th>\n",
       "      <th>Company</th>\n",
       "      <th>Date</th>\n",
       "      <th>Sales</th>\n",
       "    </tr>\n",
       "  </thead>\n",
       "  <tbody>\n",
       "    <tr>\n",
       "      <th>2</th>\n",
       "      <td>Daquan Vinson</td>\n",
       "      <td>Svalbard and Jan Mayen Islands</td>\n",
       "      <td>A Mi Consulting</td>\n",
       "      <td>Aug 14, 2016</td>\n",
       "      <td>62705</td>\n",
       "    </tr>\n",
       "    <tr>\n",
       "      <th>3</th>\n",
       "      <td>Connor Shelton</td>\n",
       "      <td>Niue</td>\n",
       "      <td>Parturient Consulting</td>\n",
       "      <td>Feb 13, 2017</td>\n",
       "      <td>12675</td>\n",
       "    </tr>\n",
       "    <tr>\n",
       "      <th>4</th>\n",
       "      <td>Drew Carlson</td>\n",
       "      <td>Mayotte</td>\n",
       "      <td>Interdum Associates</td>\n",
       "      <td>Sep 26, 2017</td>\n",
       "      <td>86670</td>\n",
       "    </tr>\n",
       "    <tr>\n",
       "      <th>5</th>\n",
       "      <td>Yoshio Curtis</td>\n",
       "      <td>Saint Martin</td>\n",
       "      <td>Ultrices Sit Amet Institute</td>\n",
       "      <td>Apr 2, 2017</td>\n",
       "      <td>95955</td>\n",
       "    </tr>\n",
       "  </tbody>\n",
       "</table>\n",
       "</div>"
      ],
      "text/plain": [
       "             Name                         Country  \\\n",
       "2   Daquan Vinson  Svalbard and Jan Mayen Islands   \n",
       "3  Connor Shelton                            Niue   \n",
       "4    Drew Carlson                         Mayotte   \n",
       "5   Yoshio Curtis                    Saint Martin   \n",
       "\n",
       "                       Company          Date  Sales  \n",
       "2              A Mi Consulting  Aug 14, 2016  62705  \n",
       "3        Parturient Consulting  Feb 13, 2017  12675  \n",
       "4          Interdum Associates  Sep 26, 2017  86670  \n",
       "5  Ultrices Sit Amet Institute   Apr 2, 2017  95955  "
      ]
     },
     "execution_count": 12,
     "metadata": {},
     "output_type": "execute_result"
    }
   ],
   "source": [
    "dataframe.iloc[2:6]"
   ]
  },
  {
   "cell_type": "code",
   "execution_count": 13,
   "id": "e15c599d",
   "metadata": {},
   "outputs": [
    {
     "data": {
      "text/html": [
       "<div>\n",
       "<style scoped>\n",
       "    .dataframe tbody tr th:only-of-type {\n",
       "        vertical-align: middle;\n",
       "    }\n",
       "\n",
       "    .dataframe tbody tr th {\n",
       "        vertical-align: top;\n",
       "    }\n",
       "\n",
       "    .dataframe thead th {\n",
       "        text-align: right;\n",
       "    }\n",
       "</style>\n",
       "<table border=\"1\" class=\"dataframe\">\n",
       "  <thead>\n",
       "    <tr style=\"text-align: right;\">\n",
       "      <th></th>\n",
       "      <th>Name</th>\n",
       "      <th>Country</th>\n",
       "      <th>Company</th>\n",
       "      <th>Date</th>\n",
       "      <th>Sales</th>\n",
       "    </tr>\n",
       "  </thead>\n",
       "  <tbody>\n",
       "    <tr>\n",
       "      <th>22</th>\n",
       "      <td>Piper Daugherty</td>\n",
       "      <td>China</td>\n",
       "      <td>Eu Limited</td>\n",
       "      <td>Jun 7, 2016</td>\n",
       "      <td>56331</td>\n",
       "    </tr>\n",
       "    <tr>\n",
       "      <th>48</th>\n",
       "      <td>Farrah Ward</td>\n",
       "      <td>China</td>\n",
       "      <td>Cursus Et Eros Limited</td>\n",
       "      <td>Jul 31, 2016</td>\n",
       "      <td>77784</td>\n",
       "    </tr>\n",
       "  </tbody>\n",
       "</table>\n",
       "</div>"
      ],
      "text/plain": [
       "               Name Country                 Company          Date  Sales\n",
       "22  Piper Daugherty   China              Eu Limited   Jun 7, 2016  56331\n",
       "48      Farrah Ward   China  Cursus Et Eros Limited  Jul 31, 2016  77784"
      ]
     },
     "execution_count": 13,
     "metadata": {},
     "output_type": "execute_result"
    }
   ],
   "source": [
    "dataframe[dataframe['Country'] == 'China'].head(2)"
   ]
  },
  {
   "cell_type": "markdown",
   "id": "143b25f9",
   "metadata": {},
   "source": [
    "# Задание 3.3.2"
   ]
  },
  {
   "cell_type": "markdown",
   "id": "559d7b3a",
   "metadata": {},
   "source": [
    "### ***Загрузить фрейм данных по ссылке: https://raw.githubusercontent.com/akmand/datasets/master/iris.csv. Необходимо выполнить нормализацию первого числового признака (sepal_length_cm) с использованием минимаксного преобразования, а второго (sepal_width_cm) с задействованием z-масштабирования.***"
   ]
  },
  {
   "cell_type": "code",
   "execution_count": 14,
   "id": "e8c2231e",
   "metadata": {},
   "outputs": [
    {
     "data": {
      "text/html": [
       "<div>\n",
       "<style scoped>\n",
       "    .dataframe tbody tr th:only-of-type {\n",
       "        vertical-align: middle;\n",
       "    }\n",
       "\n",
       "    .dataframe tbody tr th {\n",
       "        vertical-align: top;\n",
       "    }\n",
       "\n",
       "    .dataframe thead th {\n",
       "        text-align: right;\n",
       "    }\n",
       "</style>\n",
       "<table border=\"1\" class=\"dataframe\">\n",
       "  <thead>\n",
       "    <tr style=\"text-align: right;\">\n",
       "      <th></th>\n",
       "      <th>sepal_length_cm</th>\n",
       "      <th>sepal_width_cm</th>\n",
       "      <th>petal_length_cm</th>\n",
       "      <th>petal_width_cm</th>\n",
       "      <th>species</th>\n",
       "    </tr>\n",
       "  </thead>\n",
       "  <tbody>\n",
       "    <tr>\n",
       "      <th>0</th>\n",
       "      <td>0.222222</td>\n",
       "      <td>1.032057</td>\n",
       "      <td>1.4</td>\n",
       "      <td>0.2</td>\n",
       "      <td>setosa</td>\n",
       "    </tr>\n",
       "    <tr>\n",
       "      <th>1</th>\n",
       "      <td>0.166667</td>\n",
       "      <td>-0.124958</td>\n",
       "      <td>1.4</td>\n",
       "      <td>0.2</td>\n",
       "      <td>setosa</td>\n",
       "    </tr>\n",
       "    <tr>\n",
       "      <th>2</th>\n",
       "      <td>0.111111</td>\n",
       "      <td>0.337848</td>\n",
       "      <td>1.3</td>\n",
       "      <td>0.2</td>\n",
       "      <td>setosa</td>\n",
       "    </tr>\n",
       "    <tr>\n",
       "      <th>3</th>\n",
       "      <td>0.083333</td>\n",
       "      <td>0.106445</td>\n",
       "      <td>1.5</td>\n",
       "      <td>0.2</td>\n",
       "      <td>setosa</td>\n",
       "    </tr>\n",
       "    <tr>\n",
       "      <th>4</th>\n",
       "      <td>0.194444</td>\n",
       "      <td>1.263460</td>\n",
       "      <td>1.4</td>\n",
       "      <td>0.2</td>\n",
       "      <td>setosa</td>\n",
       "    </tr>\n",
       "    <tr>\n",
       "      <th>...</th>\n",
       "      <td>...</td>\n",
       "      <td>...</td>\n",
       "      <td>...</td>\n",
       "      <td>...</td>\n",
       "      <td>...</td>\n",
       "    </tr>\n",
       "    <tr>\n",
       "      <th>145</th>\n",
       "      <td>0.666667</td>\n",
       "      <td>-0.124958</td>\n",
       "      <td>5.2</td>\n",
       "      <td>2.3</td>\n",
       "      <td>virginica</td>\n",
       "    </tr>\n",
       "    <tr>\n",
       "      <th>146</th>\n",
       "      <td>0.555556</td>\n",
       "      <td>-1.281972</td>\n",
       "      <td>5.0</td>\n",
       "      <td>1.9</td>\n",
       "      <td>virginica</td>\n",
       "    </tr>\n",
       "    <tr>\n",
       "      <th>147</th>\n",
       "      <td>0.611111</td>\n",
       "      <td>-0.124958</td>\n",
       "      <td>5.2</td>\n",
       "      <td>2.0</td>\n",
       "      <td>virginica</td>\n",
       "    </tr>\n",
       "    <tr>\n",
       "      <th>148</th>\n",
       "      <td>0.527778</td>\n",
       "      <td>0.800654</td>\n",
       "      <td>5.4</td>\n",
       "      <td>2.3</td>\n",
       "      <td>virginica</td>\n",
       "    </tr>\n",
       "    <tr>\n",
       "      <th>149</th>\n",
       "      <td>0.444444</td>\n",
       "      <td>-0.124958</td>\n",
       "      <td>5.1</td>\n",
       "      <td>1.8</td>\n",
       "      <td>virginica</td>\n",
       "    </tr>\n",
       "  </tbody>\n",
       "</table>\n",
       "<p>150 rows × 5 columns</p>\n",
       "</div>"
      ],
      "text/plain": [
       "     sepal_length_cm  sepal_width_cm  petal_length_cm  petal_width_cm  \\\n",
       "0           0.222222        1.032057              1.4             0.2   \n",
       "1           0.166667       -0.124958              1.4             0.2   \n",
       "2           0.111111        0.337848              1.3             0.2   \n",
       "3           0.083333        0.106445              1.5             0.2   \n",
       "4           0.194444        1.263460              1.4             0.2   \n",
       "..               ...             ...              ...             ...   \n",
       "145         0.666667       -0.124958              5.2             2.3   \n",
       "146         0.555556       -1.281972              5.0             1.9   \n",
       "147         0.611111       -0.124958              5.2             2.0   \n",
       "148         0.527778        0.800654              5.4             2.3   \n",
       "149         0.444444       -0.124958              5.1             1.8   \n",
       "\n",
       "       species  \n",
       "0       setosa  \n",
       "1       setosa  \n",
       "2       setosa  \n",
       "3       setosa  \n",
       "4       setosa  \n",
       "..         ...  \n",
       "145  virginica  \n",
       "146  virginica  \n",
       "147  virginica  \n",
       "148  virginica  \n",
       "149  virginica  \n",
       "\n",
       "[150 rows x 5 columns]"
      ]
     },
     "execution_count": 14,
     "metadata": {},
     "output_type": "execute_result"
    }
   ],
   "source": [
    "from sklearn import preprocessing\n",
    "\n",
    "url = 'https://raw.githubusercontent.com/akmand/datasets/master/iris.csv'\n",
    "dataframe = pd.read_csv(url)\n",
    "\n",
    "scaler1 = preprocessing.MinMaxScaler()\n",
    "scaler2 = preprocessing.StandardScaler()\n",
    "dataframe[['sepal_length_cm']] = scaler1.fit_transform(dataframe[['sepal_length_cm']])\n",
    "dataframe[['sepal_width_cm']] = scaler2.fit_transform(dataframe[['sepal_width_cm']])\n",
    "\n",
    "dataframe"
   ]
  },
  {
   "cell_type": "code",
   "execution_count": null,
   "id": "cc17c446",
   "metadata": {},
   "outputs": [],
   "source": []
  }
 ],
 "metadata": {
  "kernelspec": {
   "display_name": "Python 3 (ipykernel)",
   "language": "python",
   "name": "python3"
  },
  "language_info": {
   "codemirror_mode": {
    "name": "ipython",
    "version": 3
   },
   "file_extension": ".py",
   "mimetype": "text/x-python",
   "name": "python",
   "nbconvert_exporter": "python",
   "pygments_lexer": "ipython3",
   "version": "3.9.12"
  }
 },
 "nbformat": 4,
 "nbformat_minor": 5
}
